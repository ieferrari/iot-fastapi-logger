{
 "cells": [
  {
   "cell_type": "code",
   "execution_count": 1,
   "metadata": {},
   "outputs": [
    {
     "name": "stdout",
     "output_type": "stream",
     "text": [
      "Connecting to database\n"
     ]
    }
   ],
   "source": [
    "import paho.mqtt.client as mqtt\n",
    "import traceback\n",
    "import psycopg2\n",
    "\n",
    "broker_source = \"127.0.0.1\"\n",
    "broker_source_port = 1883\n",
    "\n",
    "client_source = mqtt.Client()\n",
    "client_source.username_pw_set(\"admin\", \"admin\")\n",
    "\n",
    "DatabaseHostName = 'localhost'\n",
    "DatabaseUserName = 'admin'\n",
    "DatabasePassword = 'password'\n",
    "DatabaseName = 'mqtt'\n",
    "DatabasePort = 15432\n",
    "\n",
    "print(\"Connecting to database\")\n",
    "connection = psycopg2.connect(\n",
    "\thost = DatabaseHostName,\n",
    "\tuser = DatabaseUserName,\n",
    "\tpassword = DatabasePassword,\n",
    "\tdatabase = DatabaseName,\n",
    "\tport = DatabasePort\n",
    ")\n",
    "\n",
    "def insertIntoDatabase(message):\n",
    "\t\"Inserts the mqtt data into the database\"\n",
    "\twith connection.cursor() as cursor:\n",
    "\t\tprint(\"Inserting data: \" + str(message.topic) + \";\" + str(message.payload)[2:][:-1] + \";\" + str(message.qos))\n",
    "\t\tcursor.callproc('InsertIntoMQTTTable', [str(message.topic), str(message.payload)[2:][:-1], int(message.qos)])\n",
    "\t\tconnection.commit()\n",
    "\n",
    "def on_message(client, userdata, message):\n",
    "\t\"Evaluated when a new message is received on a subscribed topic\"\n",
    "\tprint(\"Received message '\" + str(message.payload)[2:][:-1] + \"' on topic '\"\n",
    "\t\t+ message.topic + \"' with QoS \" + str(message.qos))\n",
    "\tinsertIntoDatabase(message)\n",
    "\t\n",
    "def setup():\n",
    "\t\"Runs the setup procedure for the client\"\n",
    "\tprint(\"Setting up the onMessage handler\")\n",
    "\tclient_source.on_message = on_message\n",
    "\tprint(\"Connecting to source\")\n",
    "\tclient_source.connect(broker_source, broker_source_port)\n",
    "\tclient_source.subscribe(\"#\", qos=1)\n",
    "\tprint(\"Setup finished, waiting for messages...\")\n"
   ]
  },
  {
   "cell_type": "code",
   "execution_count": 11,
   "metadata": {},
   "outputs": [
    {
     "name": "stdout",
     "output_type": "stream",
     "text": [
      "Setting up the onMessage handler\n",
      "Connecting to source\n",
      "Setup finished, waiting for messages...\n"
     ]
    }
   ],
   "source": [
    "setup()"
   ]
  },
  {
   "cell_type": "code",
   "execution_count": 2,
   "metadata": {},
   "outputs": [],
   "source": [
    "def on_message(client, userdata, message):\n",
    "    print(message.payload, message.payload.decode(), message.topic, message.qos)\n"
   ]
  },
  {
   "cell_type": "code",
   "execution_count": 15,
   "metadata": {},
   "outputs": [],
   "source": [
    "client_source.on_message = on_message\n"
   ]
  },
  {
   "cell_type": "code",
   "execution_count": null,
   "metadata": {},
   "outputs": [],
   "source": []
  },
  {
   "cell_type": "code",
   "execution_count": 21,
   "metadata": {},
   "outputs": [
    {
     "data": {
      "text/plain": [
       "0.3416514056510952"
      ]
     },
     "execution_count": 21,
     "metadata": {},
     "output_type": "execute_result"
    }
   ],
   "source": [
    "from math import sin\n",
    "def X(t):\n",
    "    return sin(t)+2*sin(3*t)\n",
    "\n",
    "X(5)"
   ]
  },
  {
   "cell_type": "code",
   "execution_count": 37,
   "metadata": {},
   "outputs": [],
   "source": [
    "from datetime import datetime\n",
    "from time import sleep\n",
    "\n",
    "a = []\n",
    "for i in range(50):\n",
    "    hour = datetime.now().strftime('%M %S').split(' ')\n",
    "    hour = int(hour[0])*60 + int(hour[1])\n",
    "    a.append(X(hour))\n",
    "    sleep(2)\n",
    "\n"
   ]
  },
  {
   "cell_type": "code",
   "execution_count": 2,
   "metadata": {},
   "outputs": [],
   "source": [
    "a =[-1.1886732506710955,\n",
    " -0.48584528431138496,\n",
    " -2.4098476326085394,\n",
    " -2.407967189823626,\n",
    " -0.9918640650251712,\n",
    " -2.248065604860655,\n",
    " -2.257690034581442,\n",
    " -0.22462359240773422,\n",
    " -0.7915950127787373,\n",
    " -0.9794653910746316,\n",
    " 1.2655785110235822,\n",
    " 1.1338035460746254,\n",
    " 0.4511232150109362,\n",
    " 2.3918541094971064,\n",
    " 2.3892804517911457,\n",
    " 0.9958507089427915,\n",
    " 2.2750542324873124,\n",
    " 2.2831149174768433,\n",
    " 0.26446977679845574,\n",
    " 0.8501142807849931,\n",
    " 1.0278052186830304,\n",
    " -1.218560809527758,\n",
    " -1.0782392801558223,\n",
    " -0.41547756351248577,\n",
    " -2.372573202885956,\n",
    " -2.36918240589395,\n",
    " -0.9985086025772589,\n",
    " -2.3006869063386732,\n",
    " -2.30735004927394,\n",
    " -0.30353172527211225,\n",
    " -0.9081116104286838,\n",
    " -1.0759536391750637,\n",
    " 1.1712052330478797,\n",
    " 1.0220141572406578,\n",
    " 0.37893491883368846,\n",
    " 2.352022769322147,\n",
    " 2.3476822202528456,\n",
    " 0.9998357738447015,\n",
    " 2.324950637487535,\n",
    " 2.3303742084202392,\n",
    " 0.3417802517606391,\n",
    " 0.9655516103877675,\n",
    " 1.123873768429216,\n",
    " -1.1235482303532187,\n",
    " -0.965162339830036,\n",
    " -0.3415225497766209,\n",
    " -2.33022152888,\n",
    " -2.324790030596756,\n",
    " -0.9998312380367982,\n",
    " -2.347833382390885]"
   ]
  },
  {
   "cell_type": "code",
   "execution_count": 3,
   "metadata": {},
   "outputs": [
    {
     "data": {
      "text/plain": [
       "[<matplotlib.lines.Line2D at 0x7fa0a7d71dc0>]"
      ]
     },
     "execution_count": 3,
     "metadata": {},
     "output_type": "execute_result"
    },
    {
     "data": {
      "image/png": "[encoded data removed]",
      "text/plain": [
       "<Figure size 432x288 with 1 Axes>"
      ]
     },
     "metadata": {
      "needs_background": "light"
     },
     "output_type": "display_data"
    }
   ],
   "source": [
    "from matplotlib import pyplot as plt\n",
    "\n",
    "plt.plot(a)"
   ]
  },
  {
   "cell_type": "code",
   "execution_count": null,
   "metadata": {},
   "outputs": [],
   "source": []
  }
 ],
 "metadata": {
  "interpreter": {
   "hash": "1448b48b023bcc9c3d4a79e814720a10ca6d4244f75e0f7ce4af58f96ba2b7d3"
  },
  "kernelspec": {
   "display_name": "Python 3.9.12 ('base')",
   "language": "python",
   "name": "python3"
  },
  "language_info": {
   "codemirror_mode": {
    "name": "ipython",
    "version": 3
   },
   "file_extension": ".py",
   "mimetype": "text/x-python",
   "name": "python",
   "nbconvert_exporter": "python",
   "pygments_lexer": "ipython3",
   "version": "3.9.12"
  },
  "orig_nbformat": 4
 },
 "nbformat": 4,
 "nbformat_minor": 2
}
